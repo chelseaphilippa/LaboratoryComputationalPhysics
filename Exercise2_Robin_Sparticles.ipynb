{
 "cells": [
  {
   "cell_type": "markdown",
   "id": "confidential-protest",
   "metadata": {},
   "source": [
    "## Exercise 2: Robin Sparticles\n",
    "\n",
    "- Joao Freitas \n",
    "- Dyutideepta Banerjee\n",
    "- Chelsea Owen "
   ]
  },
  {
   "cell_type": "markdown",
   "id": "armed-transfer",
   "metadata": {},
   "source": [
    "### Packages"
   ]
  },
  {
   "cell_type": "code",
   "execution_count": 28,
   "id": "atmospheric-theory",
   "metadata": {},
   "outputs": [],
   "source": [
    "import numpy as np\n",
    "import matplotlib.pyplot as plt\n",
    "from keras.models import Sequential\n",
    "from keras.layers import Dense, Dropout \n",
    "from keras.optimizers import SGD\n",
    "import pandas as pd\n",
    "#dropout: with a given stochastic prob, each neuron is not used. avoids overfitting\n",
    "import time\n",
    "import math "
   ]
  },
  {
   "cell_type": "markdown",
   "id": "based-there",
   "metadata": {},
   "source": [
    "## Making the model"
   ]
  },
  {
   "cell_type": "code",
   "execution_count": 29,
   "id": "damaged-sequence",
   "metadata": {},
   "outputs": [],
   "source": [
    "def Keras_NN(len_input, hidden_layers, output_neurons, activation_method, dropout_rate = 0, optimize_method = 'RMSprop', output_activation = 'sigmoid'):\n",
    "    \n",
    "    model = Sequential()\n",
    "    # Input layer\n",
    "    model.add(Dense(len_input, input_shape = (len_input,), activation = activation_method[0]))\n",
    "    \n",
    "    # Hidden layers\n",
    "    for i in range(hidden_layers):\n",
    "        model.add(Dense(int(len_input/(2**(i+1))), activation = activation_method[i+1]))\n",
    "    \n",
    "    # Drop out layer\n",
    "    if (dropout_rate != 0):\n",
    "        model.add(Dropout(dropout_rate))\n",
    "                  \n",
    "    # Output layer\n",
    "    model.add(Dense(output_neurons,activation='sigmoid'))\n",
    "    \n",
    "    model.compile(loss='binary_crossentropy',\n",
    "              optimizer=optimize_method,\n",
    "              metrics=['accuracy'])\n",
    "    \n",
    "    return model"
   ]
  },
  {
   "cell_type": "markdown",
   "id": "competitive-triple",
   "metadata": {},
   "source": [
    "### Data conversion"
   ]
  },
  {
   "cell_type": "code",
   "execution_count": 30,
   "id": "alone-trade",
   "metadata": {},
   "outputs": [],
   "source": [
    "def nucleobase_convert(data, base = 4):\n",
    "\n",
    "#Convert nucleobases to bits\n",
    "#A = 1000, C = 0100, G = 0010, T = 0001\n",
    "\n",
    "    no_points = len(data)\n",
    "    string_len = len(data[0])\n",
    "    \n",
    "    Q = ['A', 'C', 'G', 'T']\n",
    "    onehc = {Q[i]:i for i in range(base)}\n",
    "    shape = (len(data), len(data[0])*base)\n",
    "    converted_array = np.zeros(shape)\n",
    "    for n in range(no_points):\n",
    "        for i in range(string_len):#4 step for each character\n",
    "            converted_array[n][i*4 + onehc[data[n][i]]] = 1\n",
    "    return converted_array"
   ]
  },
  {
   "cell_type": "markdown",
   "id": "listed-silver",
   "metadata": {},
   "source": [
    "## 16 nucleobase sequence with $N = 3000$"
   ]
  },
  {
   "cell_type": "code",
   "execution_count": 31,
   "id": "congressional-patio",
   "metadata": {},
   "outputs": [],
   "source": [
    "data = pd.read_csv('DATA/sequences16.csv', names = ['sequence', 'label'])\n",
    " \n",
    "X_pre = data['sequence'].to_numpy()\n",
    "X = nucleobase_convert(X_pre)\n",
    "y = data['label'].to_numpy()\n",
    "L = len(X[0])\n",
    "\n",
    "\n",
    "X_train, X_test = X[:int(len(X)*0.8)], X[int(len(X)*0.8):]\n",
    "y_train, y_test = y[:int(len(y)*0.8)], y[int(len(y)*0.8):]\n",
    "\n",
    "\n",
    "model = Keras_NN(L, 2, 1, ['relu', 'relu', 'relu'], dropout_rate = 0.2, optimize_method = 'adam')"
   ]
  },
  {
   "cell_type": "markdown",
   "id": "stuffed-particle",
   "metadata": {},
   "source": [
    "We use the same model as in the class, with ReLU activation units in the initial and hidden layers, and sigmoid in the output layer."
   ]
  },
  {
   "cell_type": "code",
   "execution_count": 32,
   "id": "proved-domestic",
   "metadata": {},
   "outputs": [],
   "source": [
    "fit = model.fit(X, y, verbose=0, validation_split = 0.2, epochs = 50)"
   ]
  },
  {
   "cell_type": "code",
   "execution_count": 33,
   "id": "norwegian-reservation",
   "metadata": {},
   "outputs": [
    {
     "data": {
      "text/plain": [
       "Text(0, 0.5, 'Validation')"
      ]
     },
     "execution_count": 33,
     "metadata": {},
     "output_type": "execute_result"
    },
    {
     "data": {
      "image/png": "[encoded data removed]",
      "text/plain": [
       "<Figure size 432x288 with 1 Axes>"
      ]
     },
     "metadata": {
      "needs_background": "light"
     },
     "output_type": "display_data"
    }
   ],
   "source": [
    "plt.plot(range(len(fit.history['loss'])), fit.history['loss'], label = 'Training loss')\n",
    "plt.plot(range(len(fit.history['accuracy'])), fit.history['accuracy'], label = 'Training accuracy')\n",
    "\n",
    "\n",
    "plt.plot(range(len(fit.history['val_loss'])), fit.history['val_loss'], label = 'Validation loss')\n",
    "plt.plot(range(len(fit.history['val_accuracy'])), fit.history['val_accuracy'], label = 'Validation accuracy')\n",
    "plt.legend()\n",
    "plt.title('Loss, accuracy functions')\n",
    "plt.xlabel('Epochs')\n",
    "plt.ylabel('Validation')"
   ]
  },
  {
   "cell_type": "markdown",
   "id": "intermediate-license",
   "metadata": {},
   "source": [
    "Validation loss increase suggests the model is overfitting to the training data. The model is not converging with this small database of samples. We need to check if it will perform better with more data. "
   ]
  },
  {
   "cell_type": "markdown",
   "id": "lonely-emission",
   "metadata": {},
   "source": [
    "## Augmenting data"
   ]
  },
  {
   "cell_type": "code",
   "execution_count": 7,
   "id": "billion-kuwait",
   "metadata": {},
   "outputs": [],
   "source": [
    "# Split the data before augmenting, convert the test data\n",
    "X_train, X_test = X_pre[:round(len(X_pre)*0.8)], nucleobase_convert(X_pre[round(len(X_pre)*0.8):])\n",
    "y_train, y_test = y[:round(len(y)*0.8)], y[round(len(y)*0.8):]\n",
    "\n",
    "#Defining a list comprehension that quickly augments the original 3000 point array with all its cyclical permutations\n",
    "X_aug_pre = np.array([X_train[j][-i:] + X_train[j][:-i] for j in range(len(X_train)) for i in range(len(X_train[j]))])\n",
    "\n",
    "#Convert the augmented data array; augment the label array accordingly, flattening it\n",
    "X_aug = nucleobase_convert(X_aug_pre)\n",
    "y_aug = np.array([[i]*len(X_train[0]) for i in y_train]).flatten()"
   ]
  },
  {
   "cell_type": "markdown",
   "id": "manufactured-creature",
   "metadata": {},
   "source": [
    "The augmented data will have some samples with incorrect labels from the augmentation method, we compare the effect of the incorrect labels against having more data."
   ]
  },
  {
   "cell_type": "markdown",
   "id": "colored-magnitude",
   "metadata": {},
   "source": [
    "## Fitting the augmented data to the model from before"
   ]
  },
  {
   "cell_type": "code",
   "execution_count": 8,
   "id": "cross-intensity",
   "metadata": {},
   "outputs": [],
   "source": [
    "fit = model.fit(X_aug, y_aug, verbose=0, validation_data = (X_test, y_test), batch_size = 100, epochs = 50)"
   ]
  },
  {
   "cell_type": "code",
   "execution_count": 9,
   "id": "hydraulic-fellow",
   "metadata": {},
   "outputs": [
    {
     "data": {
      "text/plain": [
       "Text(0, 0.5, 'Validation')"
      ]
     },
     "execution_count": 9,
     "metadata": {},
     "output_type": "execute_result"
    },
    {
     "data": {
      "image/png": "[encoded data removed]",
      "text/plain": [
       "<Figure size 432x288 with 1 Axes>"
      ]
     },
     "metadata": {
      "needs_background": "light"
     },
     "output_type": "display_data"
    }
   ],
   "source": [
    "plt.plot(range(len(fit.history['loss'])), fit.history['loss'], label = 'Training loss')\n",
    "plt.plot(range(len(fit.history['accuracy'])), fit.history['accuracy'], label = 'Training accuracy')\n",
    "\n",
    "plt.plot(range(len(fit.history['val_loss'])), fit.history['val_loss'], label = 'Validation loss')\n",
    "plt.plot(range(len(fit.history['val_accuracy'])), fit.history['val_accuracy'], label = 'Validation accuracy')\n",
    "\n",
    "plt.legend()\n",
    "plt.title('Loss, accuracy functions')\n",
    "plt.xlabel('Epochs')\n",
    "plt.ylabel('Validation')"
   ]
  },
  {
   "cell_type": "markdown",
   "id": "brilliant-johnson",
   "metadata": {},
   "source": [
    "## Performing a gridsearch for the best parameters"
   ]
  },
  {
   "cell_type": "code",
   "execution_count": 10,
   "id": "alternate-sucking",
   "metadata": {},
   "outputs": [],
   "source": [
    "# Monkey-level grid-searching\n",
    "def gridsearch_NN(x_data, y_labels, x_val, y_val, params, *args):\n",
    "    from itertools import combinations_with_replacement as combo\n",
    "    #Set up dataframe to store model info\n",
    "    \n",
    "    cols = ['model', 'Activation layer 1', 'Activation layer 2', 'Activation layer 3', 'Drop out rate', 'Optimizer', 'Validation loss', 'Validation accuracy']\n",
    "    model_list = pd.DataFrame(columns = cols)\n",
    "    \n",
    "    #Create list of all possible combos of activation functions for the neuron layers\n",
    "    activation_list = list(combo(params['activation'], len(params['activation'])))\n",
    "    \n",
    "    # Creeate all required model parameters\n",
    "    L = len(x_data[0])\n",
    "    no_epochs = 1\n",
    "    count = 0\n",
    "    \n",
    "    for activating_rule in activation_list:\n",
    "        if np.all(np.where(activating_rule == activating_rule[0], True, False)) == True:\n",
    "            # executes if all elements in activating_rule are the same.\n",
    "            for rate in params['dropout rate']:\n",
    "                for method in params['optimizer']:\n",
    "                    model = Keras_NN(L, 2, 1, activating_rule, dropout_rate = 0.2, optimize_method = method)\n",
    "                    fit = model.fit(x_data, y_labels, validation_data = (x_val, y_val), epochs = 1, verbose = 0)\n",
    "                    count += 1\n",
    "                    model_params = pd.DataFrame([[count, activating_rule[0], activating_rule[1], activating_rule[2], rate, method, np.max(fit.history['val_loss']), np.max(fit.history['val_accuracy'])]],columns = cols)\n",
    "                    model_list = pd.concat([model_list, model_params])\n",
    "        else:\n",
    "            # executes if each layer uses different activation functions.\n",
    "            # Then the next line alternates the order in which the functions are applied\n",
    "            rules_perms = np.array([activating_rule[-i:] + activating_rule[:-i] for i in range(len(activating_rule))])\n",
    "            for rule_list in rules_perms:\n",
    "                for rate in params['dropout rate']:\n",
    "                    for method in params['optimizer']:\n",
    "                        model = Keras_NN(L, 2, 1, activating_rule, dropout_rate = 0.2, optimize_method = method)\n",
    "                        fit = model.fit(x_data, y_labels, validation_data = (x_val, y_val), epochs = 1, verbose = 0)\n",
    "                        count += 1\n",
    "                        model_params = pd.DataFrame([[count, rule_list[0], rule_list[1], rule_list[2], rate, method, np.max(fit.history['val_loss']), np.max(fit.history['val_accuracy'])]], columns = cols)\n",
    "                        model_list = pd.concat([model_list, model_params])\n",
    "    \n",
    "    model_list = model_list.set_index('model')\n",
    "    return model_list"
   ]
  },
  {
   "cell_type": "code",
   "execution_count": 11,
   "id": "embedded-concrete",
   "metadata": {},
   "outputs": [
    {
     "name": "stdout",
     "output_type": "stream",
     "text": [
      "Parameters of model with the lowest loss over the validation set: \n",
      "\n"
     ]
    },
    {
     "data": {
      "text/plain": [
       "Activation layer 1         relu\n",
       "Activation layer 2          elu\n",
       "Activation layer 3          elu\n",
       "Drop out rate               0.2\n",
       "Optimizer               RMSprop\n",
       "Validation loss        0.408523\n",
       "Validation accuracy    0.826667\n",
       "Name: 38, dtype: object"
      ]
     },
     "execution_count": 11,
     "metadata": {},
     "output_type": "execute_result"
    }
   ],
   "source": [
    "params = {\n",
    "            'activation': ['relu', 'elu', 'sigmoid'],\n",
    "            'dropout rate': [0.2, 0.4],\n",
    "            'optimizer': ['adam', 'RMSprop']\n",
    "         }\n",
    "\n",
    "model_results = gridsearch_NN(X_aug, y_aug, X_test, y_test, params)\n",
    "print('Parameters of model with the lowest loss over the validation set: \\n')\n",
    "model_results.loc[model_results['Validation loss'].idxmin()]"
   ]
  },
  {
   "cell_type": "code",
   "execution_count": 12,
   "id": "answering-toner",
   "metadata": {},
   "outputs": [
    {
     "data": {
      "text/html": [
       "<div>\n",
       "<style scoped>\n",
       "    .dataframe tbody tr th:only-of-type {\n",
       "        vertical-align: middle;\n",
       "    }\n",
       "\n",
       "    .dataframe tbody tr th {\n",
       "        vertical-align: top;\n",
       "    }\n",
       "\n",
       "    .dataframe thead th {\n",
       "        text-align: right;\n",
       "    }\n",
       "</style>\n",
       "<table border=\"1\" class=\"dataframe\">\n",
       "  <thead>\n",
       "    <tr style=\"text-align: right;\">\n",
       "      <th></th>\n",
       "      <th>Activation layer 1</th>\n",
       "      <th>Activation layer 2</th>\n",
       "      <th>Activation layer 3</th>\n",
       "      <th>Drop out rate</th>\n",
       "      <th>Optimizer</th>\n",
       "      <th>Validation loss</th>\n",
       "      <th>Validation accuracy</th>\n",
       "    </tr>\n",
       "    <tr>\n",
       "      <th>model</th>\n",
       "      <th></th>\n",
       "      <th></th>\n",
       "      <th></th>\n",
       "      <th></th>\n",
       "      <th></th>\n",
       "      <th></th>\n",
       "      <th></th>\n",
       "    </tr>\n",
       "  </thead>\n",
       "  <tbody>\n",
       "    <tr>\n",
       "      <th>1</th>\n",
       "      <td>relu</td>\n",
       "      <td>relu</td>\n",
       "      <td>relu</td>\n",
       "      <td>0.2</td>\n",
       "      <td>adam</td>\n",
       "      <td>0.432794</td>\n",
       "      <td>0.801667</td>\n",
       "    </tr>\n",
       "    <tr>\n",
       "      <th>2</th>\n",
       "      <td>relu</td>\n",
       "      <td>relu</td>\n",
       "      <td>relu</td>\n",
       "      <td>0.2</td>\n",
       "      <td>RMSprop</td>\n",
       "      <td>0.470304</td>\n",
       "      <td>0.785000</td>\n",
       "    </tr>\n",
       "    <tr>\n",
       "      <th>3</th>\n",
       "      <td>relu</td>\n",
       "      <td>relu</td>\n",
       "      <td>relu</td>\n",
       "      <td>0.4</td>\n",
       "      <td>adam</td>\n",
       "      <td>0.437588</td>\n",
       "      <td>0.796667</td>\n",
       "    </tr>\n",
       "    <tr>\n",
       "      <th>4</th>\n",
       "      <td>relu</td>\n",
       "      <td>relu</td>\n",
       "      <td>relu</td>\n",
       "      <td>0.4</td>\n",
       "      <td>RMSprop</td>\n",
       "      <td>0.454809</td>\n",
       "      <td>0.795000</td>\n",
       "    </tr>\n",
       "    <tr>\n",
       "      <th>5</th>\n",
       "      <td>relu</td>\n",
       "      <td>relu</td>\n",
       "      <td>relu</td>\n",
       "      <td>0.2</td>\n",
       "      <td>adam</td>\n",
       "      <td>0.443962</td>\n",
       "      <td>0.795000</td>\n",
       "    </tr>\n",
       "    <tr>\n",
       "      <th>...</th>\n",
       "      <td>...</td>\n",
       "      <td>...</td>\n",
       "      <td>...</td>\n",
       "      <td>...</td>\n",
       "      <td>...</td>\n",
       "      <td>...</td>\n",
       "      <td>...</td>\n",
       "    </tr>\n",
       "    <tr>\n",
       "      <th>116</th>\n",
       "      <td>sigmoid</td>\n",
       "      <td>sigmoid</td>\n",
       "      <td>sigmoid</td>\n",
       "      <td>0.4</td>\n",
       "      <td>RMSprop</td>\n",
       "      <td>0.497296</td>\n",
       "      <td>0.765000</td>\n",
       "    </tr>\n",
       "    <tr>\n",
       "      <th>117</th>\n",
       "      <td>sigmoid</td>\n",
       "      <td>sigmoid</td>\n",
       "      <td>sigmoid</td>\n",
       "      <td>0.2</td>\n",
       "      <td>adam</td>\n",
       "      <td>0.496509</td>\n",
       "      <td>0.760000</td>\n",
       "    </tr>\n",
       "    <tr>\n",
       "      <th>118</th>\n",
       "      <td>sigmoid</td>\n",
       "      <td>sigmoid</td>\n",
       "      <td>sigmoid</td>\n",
       "      <td>0.2</td>\n",
       "      <td>RMSprop</td>\n",
       "      <td>0.498199</td>\n",
       "      <td>0.770000</td>\n",
       "    </tr>\n",
       "    <tr>\n",
       "      <th>119</th>\n",
       "      <td>sigmoid</td>\n",
       "      <td>sigmoid</td>\n",
       "      <td>sigmoid</td>\n",
       "      <td>0.4</td>\n",
       "      <td>adam</td>\n",
       "      <td>0.503363</td>\n",
       "      <td>0.763333</td>\n",
       "    </tr>\n",
       "    <tr>\n",
       "      <th>120</th>\n",
       "      <td>sigmoid</td>\n",
       "      <td>sigmoid</td>\n",
       "      <td>sigmoid</td>\n",
       "      <td>0.4</td>\n",
       "      <td>RMSprop</td>\n",
       "      <td>0.500869</td>\n",
       "      <td>0.760000</td>\n",
       "    </tr>\n",
       "  </tbody>\n",
       "</table>\n",
       "<p>120 rows × 7 columns</p>\n",
       "</div>"
      ],
      "text/plain": [
       "      Activation layer 1 Activation layer 2 Activation layer 3  Drop out rate  \\\n",
       "model                                                                           \n",
       "1                   relu               relu               relu            0.2   \n",
       "2                   relu               relu               relu            0.2   \n",
       "3                   relu               relu               relu            0.4   \n",
       "4                   relu               relu               relu            0.4   \n",
       "5                   relu               relu               relu            0.2   \n",
       "...                  ...                ...                ...            ...   \n",
       "116              sigmoid            sigmoid            sigmoid            0.4   \n",
       "117              sigmoid            sigmoid            sigmoid            0.2   \n",
       "118              sigmoid            sigmoid            sigmoid            0.2   \n",
       "119              sigmoid            sigmoid            sigmoid            0.4   \n",
       "120              sigmoid            sigmoid            sigmoid            0.4   \n",
       "\n",
       "      Optimizer  Validation loss  Validation accuracy  \n",
       "model                                                  \n",
       "1          adam         0.432794             0.801667  \n",
       "2       RMSprop         0.470304             0.785000  \n",
       "3          adam         0.437588             0.796667  \n",
       "4       RMSprop         0.454809             0.795000  \n",
       "5          adam         0.443962             0.795000  \n",
       "...         ...              ...                  ...  \n",
       "116     RMSprop         0.497296             0.765000  \n",
       "117        adam         0.496509             0.760000  \n",
       "118     RMSprop         0.498199             0.770000  \n",
       "119        adam         0.503363             0.763333  \n",
       "120     RMSprop         0.500869             0.760000  \n",
       "\n",
       "[120 rows x 7 columns]"
      ]
     },
     "execution_count": 12,
     "metadata": {},
     "output_type": "execute_result"
    }
   ],
   "source": [
    "model_results"
   ]
  },
  {
   "cell_type": "code",
   "execution_count": null,
   "id": "upset-height",
   "metadata": {},
   "outputs": [],
   "source": []
  },
  {
   "cell_type": "markdown",
   "id": "played-virginia",
   "metadata": {},
   "source": [
    "### Rescaling of data using new encoding"
   ]
  },
  {
   "cell_type": "code",
   "execution_count": 13,
   "id": "literary-angle",
   "metadata": {},
   "outputs": [],
   "source": [
    "def nucleobase_convert_rescaled(data, scale, base = 4):\n",
    "    no_points = len(data)\n",
    "    string_len = len(data[0])\n",
    "    \n",
    "    Q = ['A', 'C', 'G', 'T']\n",
    "    onehc = {Q[i]:i for i in range(base)}\n",
    "    shape = (len(data), len(data[0])*base)\n",
    "    converted_array = np.zeros(shape)\n",
    "    converted_array -= scale\n",
    "    for n in range(no_points):\n",
    "        for i in range(string_len):#4 step for each character\n",
    "            converted_array[n][i*4 + onehc[data[n][i]]] = (1-scale)\n",
    "    return converted_array"
   ]
  },
  {
   "cell_type": "code",
   "execution_count": 14,
   "id": "western-investigation",
   "metadata": {},
   "outputs": [],
   "source": [
    "#Convert the augmented data array; augment the label array accordingly, flattening it\n",
    "X_sca = nucleobase_convert_rescaled(X_aug_pre, 0.5)\n",
    "y_sca = np.array([[i]*len(X_train[0]) for i in y_train]).flatten()"
   ]
  },
  {
   "cell_type": "code",
   "execution_count": 34,
   "id": "antique-ontario",
   "metadata": {},
   "outputs": [
    {
     "name": "stdout",
     "output_type": "stream",
     "text": [
      "Parameters of model with the lowest loss over the validation set: \n",
      "\n"
     ]
    },
    {
     "data": {
      "text/plain": [
       "Activation layer 1         relu\n",
       "Activation layer 2          elu\n",
       "Activation layer 3         relu\n",
       "Drop out rate               0.2\n",
       "Optimizer                  adam\n",
       "Validation loss        0.425435\n",
       "Validation accuracy       0.805\n",
       "Name: 21, dtype: object"
      ]
     },
     "execution_count": 34,
     "metadata": {},
     "output_type": "execute_result"
    }
   ],
   "source": [
    "X_sca\n",
    "\n",
    "\n",
    "model_results = gridsearch_NN(X_sca, y_sca, X_test, y_test, params)\n",
    "print('Parameters of model with the lowest loss over the validation set: \\n')\n",
    "model_results.loc[model_results['Validation loss'].idxmin()]"
   ]
  },
  {
   "cell_type": "markdown",
   "id": "practical-contest",
   "metadata": {},
   "source": [
    "The new data is scaled with a one hot encoding of [-0.5, 0.5] instead of [0,1] as previously. We define the model with the results of the gridsearch."
   ]
  },
  {
   "cell_type": "code",
   "execution_count": 16,
   "id": "intermediate-billion",
   "metadata": {},
   "outputs": [],
   "source": [
    "# Activation layer 1         relu\n",
    "# Activation layer 2         relu\n",
    "# Activation layer 3          elu\n",
    "# Drop out rate               0.2\n",
    "# Optimizer                  adam\n",
    "model2 = Keras_NN(L, 2, 1, ['relu', 'relu', 'elu'], dropout_rate = 0.2, optimize_method = 'adam', output_activation = 'sigmoid')"
   ]
  },
  {
   "cell_type": "code",
   "execution_count": 17,
   "id": "imposed-compatibility",
   "metadata": {},
   "outputs": [],
   "source": [
    "fit = model2.fit(X_sca, y_sca, verbose=0, validation_data = (X_test, y_test), batch_size = 100, epochs = 50)"
   ]
  },
  {
   "cell_type": "code",
   "execution_count": 18,
   "id": "adequate-grain",
   "metadata": {},
   "outputs": [
    {
     "data": {
      "image/png": "[encoded data removed]",
      "text/plain": [
       "<Figure size 432x288 with 1 Axes>"
      ]
     },
     "metadata": {
      "needs_background": "light"
     },
     "output_type": "display_data"
    }
   ],
   "source": [
    "plt.plot(range(len(fit.history['loss'])), fit.history['loss'], label = 'Training loss')\n",
    "plt.plot(range(len(fit.history['accuracy'])), fit.history['accuracy'], label = 'Training accuracy')\n",
    "\n",
    "plt.plot(range(len(fit.history['val_loss'])), fit.history['val_loss'], label = 'Validation loss')\n",
    "plt.plot(range(len(fit.history['val_accuracy'])), fit.history['val_accuracy'], label = 'Validation accuracy')\n",
    "\n",
    "plt.legend()\n",
    "plt.title('Loss, accuracy functions')\n",
    "plt.xlabel('Epochs')\n",
    "plt.ylabel('Validation')\n",
    "plt.show()"
   ]
  },
  {
   "cell_type": "markdown",
   "id": "agreed-visibility",
   "metadata": {},
   "source": [
    "The model still tends to overfit the training data. The validation loss increases and validation accuracy decreases, as training accuracy gets close to 1. Changing the encoding means the activation functions will change the neuron outputs. In this case, [-0.5, 0.5] does not improve performance of the model."
   ]
  },
  {
   "cell_type": "markdown",
   "id": "outer-pound",
   "metadata": {},
   "source": [
    "### Using new encoding¶\n"
   ]
  },
  {
   "cell_type": "code",
   "execution_count": 19,
   "id": "regulated-electron",
   "metadata": {},
   "outputs": [],
   "source": [
    "def new_encode(data):\n",
    "    '''\n",
    "    Converts each nucleobase into a digit from 0 to 3.\n",
    "    '''\n",
    "    no_points = len(data)\n",
    "    string_len = len(data[0])\n",
    "    \n",
    "    Q = ['A', 'C', 'G', 'T']\n",
    "    onehc = {Q[i]:i for i in range(len(Q))}\n",
    "    shape = (len(data), len(data[0]))\n",
    "    converted_array = np.zeros(shape)\n",
    "    for n in range(no_points):\n",
    "        converted_datapoint = [onehc[data[n][i]] for i in range(string_len)]\n",
    "        converted_array[n] = converted_datapoint\n",
    "    return converted_array"
   ]
  },
  {
   "cell_type": "code",
   "execution_count": 37,
   "id": "nearby-fifteen",
   "metadata": {},
   "outputs": [
    {
     "name": "stdout",
     "output_type": "stream",
     "text": [
      "Parameters of model with the lowest loss over the validation set: \n",
      "\n"
     ]
    },
    {
     "data": {
      "text/plain": [
       "Activation layer 1         relu\n",
       "Activation layer 2         relu\n",
       "Activation layer 3         relu\n",
       "Drop out rate               0.2\n",
       "Optimizer               RMSprop\n",
       "Validation loss        0.559602\n",
       "Validation accuracy    0.741667\n",
       "Name: 10, dtype: object"
      ]
     },
     "execution_count": 37,
     "metadata": {},
     "output_type": "execute_result"
    }
   ],
   "source": [
    "X_pre\n",
    "\n",
    "model_results = gridsearch_NN(X_aug_enc, y_aug_enc, X_test, y_test, params)\n",
    "print('Parameters of model with the lowest loss over the validation set: \\n')\n",
    "model_results.loc[model_results['Validation loss'].idxmin()]"
   ]
  },
  {
   "cell_type": "code",
   "execution_count": 36,
   "id": "touched-hundred",
   "metadata": {},
   "outputs": [],
   "source": [
    "# Split the data before augmenting, convert the test data\n",
    "X_train, X_test = X_pre[:round(len(X_pre)*0.8)], new_encode(X_pre[round(len(X_pre)*0.8):])\n",
    "y_train, y_test = y[:round(len(y)*0.8)], y[round(len(y)*0.8):]\n",
    "#Convert the augmented data array; augment the label array accordingly, flattening it\n",
    "X_aug_enc = new_encode(X_aug_pre)\n",
    "y_aug_enc = np.array([[i]*len(X_train[0]) for i in y_train]).flatten()\n",
    "L = len(X_aug_enc[0])"
   ]
  },
  {
   "cell_type": "code",
   "execution_count": 38,
   "id": "northern-devil",
   "metadata": {},
   "outputs": [],
   "source": [
    "model3 = Keras_NN(L, 2, 1, ['relu', 'relu', 'relu'], dropout_rate = 0.2, optimize_method = 'RMSprop', output_activation = 'sigmoid')"
   ]
  },
  {
   "cell_type": "code",
   "execution_count": 39,
   "id": "printable-sunrise",
   "metadata": {},
   "outputs": [],
   "source": [
    "fit = model3.fit(X_aug_enc, y_aug_enc, verbose=0, validation_data = (X_test, y_test), epochs = 50)"
   ]
  },
  {
   "cell_type": "code",
   "execution_count": 40,
   "id": "severe-compatibility",
   "metadata": {},
   "outputs": [
    {
     "data": {
      "text/plain": [
       "Text(0, 0.5, 'Validation')"
      ]
     },
     "execution_count": 40,
     "metadata": {},
     "output_type": "execute_result"
    },
    {
     "data": {
      "image/png": "[encoded data removed]",
      "text/plain": [
       "<Figure size 432x288 with 1 Axes>"
      ]
     },
     "metadata": {
      "needs_background": "light"
     },
     "output_type": "display_data"
    }
   ],
   "source": [
    "plt.plot(range(len(fit.history['loss'])), fit.history['loss'], label = 'Training loss')\n",
    "plt.plot(range(len(fit.history['accuracy'])), fit.history['accuracy'], label = 'Training accuracy')\n",
    "\n",
    "plt.plot(range(len(fit.history['val_loss'])), fit.history['val_loss'], label = 'Validation loss')\n",
    "plt.plot(range(len(fit.history['val_accuracy'])), fit.history['val_accuracy'], label = 'Validation accuracy')\n",
    "\n",
    "plt.legend()\n",
    "plt.title('Loss, accuracy functions')\n",
    "plt.xlabel('Epochs')\n",
    "plt.ylabel('Validation')"
   ]
  },
  {
   "cell_type": "markdown",
   "id": "formed-income",
   "metadata": {},
   "source": [
    "This encoding appears to function better on this data set than using [-0.5, 0.5], although validation accuracy is still slightly lower than it was previously. The encoding that works the best is still [0,1] on the augmented data."
   ]
  }
 ],
 "metadata": {
  "kernelspec": {
   "display_name": "Python 3",
   "language": "python",
   "name": "python3"
  },
  "language_info": {
   "codemirror_mode": {
    "name": "ipython",
    "version": 3
   },
   "file_extension": ".py",
   "mimetype": "text/x-python",
   "name": "python",
   "nbconvert_exporter": "python",
   "pygments_lexer": "ipython3",
   "version": "3.8.8"
  }
 },
 "nbformat": 4,
 "nbformat_minor": 5
}
